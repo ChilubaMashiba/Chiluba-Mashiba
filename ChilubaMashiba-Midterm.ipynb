{
 "cells": [
  {
   "cell_type": "code",
   "execution_count": 3,
   "id": "b1bd9e1b",
   "metadata": {},
   "outputs": [],
   "source": [
    "import pandas as pd\n",
    "import os"
   ]
  },
  {
   "cell_type": "code",
   "execution_count": 7,
   "id": "df306480",
   "metadata": {},
   "outputs": [],
   "source": [
    "data_path = './'  "
   ]
  },
  {
   "cell_type": "code",
   "execution_count": 8,
   "id": "f520112d",
   "metadata": {},
   "outputs": [],
   "source": [
    "import zipfile"
   ]
  },
  {
   "cell_type": "code",
   "execution_count": 9,
   "id": "4206c2fc",
   "metadata": {},
   "outputs": [
    {
     "name": "stdout",
     "output_type": "stream",
     "text": [
      "['data/TER.csv', 'data/LNC.csv', 'data/TRV.csv', 'data/ACN.csv', 'data/GL.csv']\n"
     ]
    }
   ],
   "source": [
    "path = path = 'C:/Users/faith/Downloads/96715177.zip'\n",
    "with zipfile.ZipFile(path) as z:\n",
    "    print(z.namelist())"
   ]
  },
  {
   "cell_type": "code",
   "execution_count": 13,
   "id": "8b66e3bd",
   "metadata": {},
   "outputs": [],
   "source": [
    "with zipfile.ZipFile(path) as z:\n",
    "    with z.open('data/TER.csv') as f:\n",
    "        df = pd.read_csv(f)"
   ]
  },
  {
   "cell_type": "code",
   "execution_count": null,
   "id": "36744290",
   "metadata": {},
   "outputs": [],
   "source": [
    "head(close)"
   ]
  },
  {
   "cell_type": "code",
   "execution_count": 14,
   "id": "ea75fd2f",
   "metadata": {},
   "outputs": [
    {
     "data": {
      "text/html": [
       "<div>\n",
       "<style scoped>\n",
       "    .dataframe tbody tr th:only-of-type {\n",
       "        vertical-align: middle;\n",
       "    }\n",
       "\n",
       "    .dataframe tbody tr th {\n",
       "        vertical-align: top;\n",
       "    }\n",
       "\n",
       "    .dataframe thead th {\n",
       "        text-align: right;\n",
       "    }\n",
       "</style>\n",
       "<table border=\"1\" class=\"dataframe\">\n",
       "  <thead>\n",
       "    <tr style=\"text-align: right;\">\n",
       "      <th></th>\n",
       "      <th>Date</th>\n",
       "      <th>Open</th>\n",
       "      <th>High</th>\n",
       "      <th>Low</th>\n",
       "      <th>Close</th>\n",
       "      <th>Volume</th>\n",
       "      <th>Dividends</th>\n",
       "      <th>Stock Splits</th>\n",
       "    </tr>\n",
       "  </thead>\n",
       "  <tbody>\n",
       "    <tr>\n",
       "      <th>0</th>\n",
       "      <td>2017-01-03</td>\n",
       "      <td>24.403</td>\n",
       "      <td>24.796</td>\n",
       "      <td>24.145</td>\n",
       "      <td>24.279</td>\n",
       "      <td>1650700</td>\n",
       "      <td>0.0</td>\n",
       "      <td>0.0</td>\n",
       "    </tr>\n",
       "    <tr>\n",
       "      <th>1</th>\n",
       "      <td>2017-01-04</td>\n",
       "      <td>24.298</td>\n",
       "      <td>24.824</td>\n",
       "      <td>24.279</td>\n",
       "      <td>24.423</td>\n",
       "      <td>2448400</td>\n",
       "      <td>0.0</td>\n",
       "      <td>0.0</td>\n",
       "    </tr>\n",
       "    <tr>\n",
       "      <th>2</th>\n",
       "      <td>2017-01-05</td>\n",
       "      <td>24.470</td>\n",
       "      <td>24.815</td>\n",
       "      <td>24.346</td>\n",
       "      <td>24.528</td>\n",
       "      <td>1590500</td>\n",
       "      <td>0.0</td>\n",
       "      <td>0.0</td>\n",
       "    </tr>\n",
       "    <tr>\n",
       "      <th>3</th>\n",
       "      <td>2017-01-06</td>\n",
       "      <td>24.528</td>\n",
       "      <td>24.604</td>\n",
       "      <td>24.346</td>\n",
       "      <td>24.537</td>\n",
       "      <td>2354000</td>\n",
       "      <td>0.0</td>\n",
       "      <td>0.0</td>\n",
       "    </tr>\n",
       "    <tr>\n",
       "      <th>4</th>\n",
       "      <td>2017-01-09</td>\n",
       "      <td>24.604</td>\n",
       "      <td>24.815</td>\n",
       "      <td>24.585</td>\n",
       "      <td>24.604</td>\n",
       "      <td>1966000</td>\n",
       "      <td>0.0</td>\n",
       "      <td>0.0</td>\n",
       "    </tr>\n",
       "    <tr>\n",
       "      <th>...</th>\n",
       "      <td>...</td>\n",
       "      <td>...</td>\n",
       "      <td>...</td>\n",
       "      <td>...</td>\n",
       "      <td>...</td>\n",
       "      <td>...</td>\n",
       "      <td>...</td>\n",
       "      <td>...</td>\n",
       "    </tr>\n",
       "    <tr>\n",
       "      <th>1505</th>\n",
       "      <td>2022-12-23</td>\n",
       "      <td>84.825</td>\n",
       "      <td>85.976</td>\n",
       "      <td>83.753</td>\n",
       "      <td>85.927</td>\n",
       "      <td>858600</td>\n",
       "      <td>0.0</td>\n",
       "      <td>0.0</td>\n",
       "    </tr>\n",
       "    <tr>\n",
       "      <th>1506</th>\n",
       "      <td>2022-12-27</td>\n",
       "      <td>85.003</td>\n",
       "      <td>85.400</td>\n",
       "      <td>83.395</td>\n",
       "      <td>84.140</td>\n",
       "      <td>1156000</td>\n",
       "      <td>0.0</td>\n",
       "      <td>0.0</td>\n",
       "    </tr>\n",
       "    <tr>\n",
       "      <th>1507</th>\n",
       "      <td>2022-12-28</td>\n",
       "      <td>83.395</td>\n",
       "      <td>84.775</td>\n",
       "      <td>82.700</td>\n",
       "      <td>83.623</td>\n",
       "      <td>990300</td>\n",
       "      <td>0.0</td>\n",
       "      <td>0.0</td>\n",
       "    </tr>\n",
       "    <tr>\n",
       "      <th>1508</th>\n",
       "      <td>2022-12-29</td>\n",
       "      <td>85.430</td>\n",
       "      <td>87.485</td>\n",
       "      <td>84.626</td>\n",
       "      <td>86.850</td>\n",
       "      <td>1137300</td>\n",
       "      <td>0.0</td>\n",
       "      <td>0.0</td>\n",
       "    </tr>\n",
       "    <tr>\n",
       "      <th>1509</th>\n",
       "      <td>2022-12-30</td>\n",
       "      <td>85.212</td>\n",
       "      <td>86.820</td>\n",
       "      <td>84.725</td>\n",
       "      <td>86.711</td>\n",
       "      <td>677400</td>\n",
       "      <td>0.0</td>\n",
       "      <td>0.0</td>\n",
       "    </tr>\n",
       "  </tbody>\n",
       "</table>\n",
       "<p>1510 rows × 8 columns</p>\n",
       "</div>"
      ],
      "text/plain": [
       "            Date    Open    High     Low   Close   Volume  Dividends  \\\n",
       "0     2017-01-03  24.403  24.796  24.145  24.279  1650700        0.0   \n",
       "1     2017-01-04  24.298  24.824  24.279  24.423  2448400        0.0   \n",
       "2     2017-01-05  24.470  24.815  24.346  24.528  1590500        0.0   \n",
       "3     2017-01-06  24.528  24.604  24.346  24.537  2354000        0.0   \n",
       "4     2017-01-09  24.604  24.815  24.585  24.604  1966000        0.0   \n",
       "...          ...     ...     ...     ...     ...      ...        ...   \n",
       "1505  2022-12-23  84.825  85.976  83.753  85.927   858600        0.0   \n",
       "1506  2022-12-27  85.003  85.400  83.395  84.140  1156000        0.0   \n",
       "1507  2022-12-28  83.395  84.775  82.700  83.623   990300        0.0   \n",
       "1508  2022-12-29  85.430  87.485  84.626  86.850  1137300        0.0   \n",
       "1509  2022-12-30  85.212  86.820  84.725  86.711   677400        0.0   \n",
       "\n",
       "      Stock Splits  \n",
       "0              0.0  \n",
       "1              0.0  \n",
       "2              0.0  \n",
       "3              0.0  \n",
       "4              0.0  \n",
       "...            ...  \n",
       "1505           0.0  \n",
       "1506           0.0  \n",
       "1507           0.0  \n",
       "1508           0.0  \n",
       "1509           0.0  \n",
       "\n",
       "[1510 rows x 8 columns]"
      ]
     },
     "execution_count": 14,
     "metadata": {},
     "output_type": "execute_result"
    }
   ],
   "source": [
    "df"
   ]
  },
  {
   "cell_type": "code",
   "execution_count": 24,
   "id": "65007bd3",
   "metadata": {},
   "outputs": [
    {
     "data": {
      "text/html": [
       "<div>\n",
       "<style scoped>\n",
       "    .dataframe tbody tr th:only-of-type {\n",
       "        vertical-align: middle;\n",
       "    }\n",
       "\n",
       "    .dataframe tbody tr th {\n",
       "        vertical-align: top;\n",
       "    }\n",
       "\n",
       "    .dataframe thead th {\n",
       "        text-align: right;\n",
       "    }\n",
       "</style>\n",
       "<table border=\"1\" class=\"dataframe\">\n",
       "  <thead>\n",
       "    <tr style=\"text-align: right;\">\n",
       "      <th></th>\n",
       "      <th>Date</th>\n",
       "      <th>Open</th>\n",
       "      <th>High</th>\n",
       "      <th>Low</th>\n",
       "      <th>Close</th>\n",
       "      <th>Volume</th>\n",
       "      <th>Dividends</th>\n",
       "      <th>Stock Splits</th>\n",
       "    </tr>\n",
       "  </thead>\n",
       "  <tbody>\n",
       "    <tr>\n",
       "      <th>0</th>\n",
       "      <td>2017-01-03</td>\n",
       "      <td>49.793</td>\n",
       "      <td>50.605</td>\n",
       "      <td>49.019</td>\n",
       "      <td>49.793</td>\n",
       "      <td>1578200</td>\n",
       "      <td>0.00</td>\n",
       "      <td>0.0</td>\n",
       "    </tr>\n",
       "    <tr>\n",
       "      <th>1</th>\n",
       "      <td>2017-01-04</td>\n",
       "      <td>50.143</td>\n",
       "      <td>50.679</td>\n",
       "      <td>49.860</td>\n",
       "      <td>50.426</td>\n",
       "      <td>1394600</td>\n",
       "      <td>0.00</td>\n",
       "      <td>0.0</td>\n",
       "    </tr>\n",
       "    <tr>\n",
       "      <th>2</th>\n",
       "      <td>2017-01-05</td>\n",
       "      <td>50.165</td>\n",
       "      <td>50.471</td>\n",
       "      <td>48.975</td>\n",
       "      <td>49.726</td>\n",
       "      <td>1462800</td>\n",
       "      <td>0.00</td>\n",
       "      <td>0.0</td>\n",
       "    </tr>\n",
       "    <tr>\n",
       "      <th>3</th>\n",
       "      <td>2017-01-06</td>\n",
       "      <td>49.951</td>\n",
       "      <td>50.489</td>\n",
       "      <td>49.682</td>\n",
       "      <td>50.339</td>\n",
       "      <td>1096700</td>\n",
       "      <td>0.29</td>\n",
       "      <td>0.0</td>\n",
       "    </tr>\n",
       "    <tr>\n",
       "      <th>4</th>\n",
       "      <td>2017-01-09</td>\n",
       "      <td>49.383</td>\n",
       "      <td>50.212</td>\n",
       "      <td>49.383</td>\n",
       "      <td>49.719</td>\n",
       "      <td>1116800</td>\n",
       "      <td>0.00</td>\n",
       "      <td>0.0</td>\n",
       "    </tr>\n",
       "    <tr>\n",
       "      <th>...</th>\n",
       "      <td>...</td>\n",
       "      <td>...</td>\n",
       "      <td>...</td>\n",
       "      <td>...</td>\n",
       "      <td>...</td>\n",
       "      <td>...</td>\n",
       "      <td>...</td>\n",
       "      <td>...</td>\n",
       "    </tr>\n",
       "    <tr>\n",
       "      <th>1505</th>\n",
       "      <td>2022-12-23</td>\n",
       "      <td>26.004</td>\n",
       "      <td>26.424</td>\n",
       "      <td>25.732</td>\n",
       "      <td>26.389</td>\n",
       "      <td>1600900</td>\n",
       "      <td>0.00</td>\n",
       "      <td>0.0</td>\n",
       "    </tr>\n",
       "    <tr>\n",
       "      <th>1506</th>\n",
       "      <td>2022-12-27</td>\n",
       "      <td>26.433</td>\n",
       "      <td>26.450</td>\n",
       "      <td>25.811</td>\n",
       "      <td>26.091</td>\n",
       "      <td>1490600</td>\n",
       "      <td>0.00</td>\n",
       "      <td>0.0</td>\n",
       "    </tr>\n",
       "    <tr>\n",
       "      <th>1507</th>\n",
       "      <td>2022-12-28</td>\n",
       "      <td>26.188</td>\n",
       "      <td>26.319</td>\n",
       "      <td>25.680</td>\n",
       "      <td>25.864</td>\n",
       "      <td>2069700</td>\n",
       "      <td>0.00</td>\n",
       "      <td>0.0</td>\n",
       "    </tr>\n",
       "    <tr>\n",
       "      <th>1508</th>\n",
       "      <td>2022-12-29</td>\n",
       "      <td>26.013</td>\n",
       "      <td>26.976</td>\n",
       "      <td>25.925</td>\n",
       "      <td>26.845</td>\n",
       "      <td>1924100</td>\n",
       "      <td>0.00</td>\n",
       "      <td>0.0</td>\n",
       "    </tr>\n",
       "    <tr>\n",
       "      <th>1509</th>\n",
       "      <td>2022-12-30</td>\n",
       "      <td>26.494</td>\n",
       "      <td>27.090</td>\n",
       "      <td>26.424</td>\n",
       "      <td>26.906</td>\n",
       "      <td>2394200</td>\n",
       "      <td>0.00</td>\n",
       "      <td>0.0</td>\n",
       "    </tr>\n",
       "  </tbody>\n",
       "</table>\n",
       "<p>1510 rows × 8 columns</p>\n",
       "</div>"
      ],
      "text/plain": [
       "            Date    Open    High     Low   Close   Volume  Dividends  \\\n",
       "0     2017-01-03  49.793  50.605  49.019  49.793  1578200       0.00   \n",
       "1     2017-01-04  50.143  50.679  49.860  50.426  1394600       0.00   \n",
       "2     2017-01-05  50.165  50.471  48.975  49.726  1462800       0.00   \n",
       "3     2017-01-06  49.951  50.489  49.682  50.339  1096700       0.29   \n",
       "4     2017-01-09  49.383  50.212  49.383  49.719  1116800       0.00   \n",
       "...          ...     ...     ...     ...     ...      ...        ...   \n",
       "1505  2022-12-23  26.004  26.424  25.732  26.389  1600900       0.00   \n",
       "1506  2022-12-27  26.433  26.450  25.811  26.091  1490600       0.00   \n",
       "1507  2022-12-28  26.188  26.319  25.680  25.864  2069700       0.00   \n",
       "1508  2022-12-29  26.013  26.976  25.925  26.845  1924100       0.00   \n",
       "1509  2022-12-30  26.494  27.090  26.424  26.906  2394200       0.00   \n",
       "\n",
       "      Stock Splits  \n",
       "0              0.0  \n",
       "1              0.0  \n",
       "2              0.0  \n",
       "3              0.0  \n",
       "4              0.0  \n",
       "...            ...  \n",
       "1505           0.0  \n",
       "1506           0.0  \n",
       "1507           0.0  \n",
       "1508           0.0  \n",
       "1509           0.0  \n",
       "\n",
       "[1510 rows x 8 columns]"
      ]
     },
     "execution_count": 24,
     "metadata": {},
     "output_type": "execute_result"
    }
   ],
   "source": [
    "with zipfile.ZipFile(path) as z:\n",
    "    with z.open('data/LNC.csv') as f:\n",
    "        df = pd.read_csv(f)\n",
    "df"
   ]
  },
  {
   "cell_type": "code",
   "execution_count": 27,
   "id": "1fe56c10",
   "metadata": {},
   "outputs": [],
   "source": [
    "with zipfile.ZipFile(path) as z:\n",
    "    with z.open('data/TRV.csv') as f:\n",
    "        df = pd.read_csv(f)"
   ]
  },
  {
   "cell_type": "code",
   "execution_count": 16,
   "id": "0f083386",
   "metadata": {},
   "outputs": [],
   "source": [
    "with zipfile.ZipFile(path) as z:\n",
    "    with z.open('data/ACN.csv') as f:\n",
    "        df = pd.read_csv(f)"
   ]
  },
  {
   "cell_type": "code",
   "execution_count": 17,
   "id": "d135ffbd",
   "metadata": {},
   "outputs": [],
   "source": [
    "with zipfile.ZipFile(path) as z:\n",
    "    with z.open('data/GL.csv') as f:\n",
    "        df = pd.read_csv(f)"
   ]
  },
  {
   "cell_type": "code",
   "execution_count": null,
   "id": "a91dee68",
   "metadata": {},
   "outputs": [],
   "source": [
    "close_prices = pd.DataFrame()\n",
    "\n",
    "for file in csv_files:\n",
    "    ticker = file.replace('.csv', '')\n",
    "    df = pd.read_csv(os.path.join(data_path, file), parse_dates=['Date'], index_col='Date')\n",
    "    close_prices[ticker] = df['Close']\n",
    "close_prices.head"
   ]
  },
  {
   "cell_type": "code",
   "execution_count": 18,
   "id": "7209654c",
   "metadata": {},
   "outputs": [
    {
     "ename": "KeyError",
     "evalue": "\"There is no item named 'data_description.txt' in the archive\"",
     "output_type": "error",
     "traceback": [
      "\u001b[1;31m---------------------------------------------------------------------------\u001b[0m",
      "\u001b[1;31mKeyError\u001b[0m                                  Traceback (most recent call last)",
      "Cell \u001b[1;32mIn[18], line 2\u001b[0m\n\u001b[0;32m      1\u001b[0m \u001b[38;5;28;01mwith\u001b[39;00m zipfile\u001b[38;5;241m.\u001b[39mZipFile(path) \u001b[38;5;28;01mas\u001b[39;00m z:\n\u001b[1;32m----> 2\u001b[0m     \u001b[38;5;28;01mwith\u001b[39;00m z\u001b[38;5;241m.\u001b[39mopen(\u001b[38;5;124m'\u001b[39m\u001b[38;5;124mdata_description.txt\u001b[39m\u001b[38;5;124m'\u001b[39m) \u001b[38;5;28;01mas\u001b[39;00m f:\n\u001b[0;32m      3\u001b[0m         desc_data \u001b[38;5;241m=\u001b[39m f\u001b[38;5;241m.\u001b[39mread()\u001b[38;5;241m.\u001b[39mdecode(\u001b[38;5;124m'\u001b[39m\u001b[38;5;124mutf-8\u001b[39m\u001b[38;5;124m'\u001b[39m)\n\u001b[0;32m      4\u001b[0m         \u001b[38;5;28mprint\u001b[39m(desc_data)\n",
      "File \u001b[1;32m~\\anaconda3\\Lib\\zipfile.py:1547\u001b[0m, in \u001b[0;36mZipFile.open\u001b[1;34m(self, name, mode, pwd, force_zip64)\u001b[0m\n\u001b[0;32m   1544\u001b[0m     zinfo\u001b[38;5;241m.\u001b[39m_compresslevel \u001b[38;5;241m=\u001b[39m \u001b[38;5;28mself\u001b[39m\u001b[38;5;241m.\u001b[39mcompresslevel\n\u001b[0;32m   1545\u001b[0m \u001b[38;5;28;01melse\u001b[39;00m:\n\u001b[0;32m   1546\u001b[0m     \u001b[38;5;66;03m# Get info object for name\u001b[39;00m\n\u001b[1;32m-> 1547\u001b[0m     zinfo \u001b[38;5;241m=\u001b[39m \u001b[38;5;28mself\u001b[39m\u001b[38;5;241m.\u001b[39mgetinfo(name)\n\u001b[0;32m   1549\u001b[0m \u001b[38;5;28;01mif\u001b[39;00m mode \u001b[38;5;241m==\u001b[39m \u001b[38;5;124m'\u001b[39m\u001b[38;5;124mw\u001b[39m\u001b[38;5;124m'\u001b[39m:\n\u001b[0;32m   1550\u001b[0m     \u001b[38;5;28;01mreturn\u001b[39;00m \u001b[38;5;28mself\u001b[39m\u001b[38;5;241m.\u001b[39m_open_to_write(zinfo, force_zip64\u001b[38;5;241m=\u001b[39mforce_zip64)\n",
      "File \u001b[1;32m~\\anaconda3\\Lib\\zipfile.py:1476\u001b[0m, in \u001b[0;36mZipFile.getinfo\u001b[1;34m(self, name)\u001b[0m\n\u001b[0;32m   1474\u001b[0m info \u001b[38;5;241m=\u001b[39m \u001b[38;5;28mself\u001b[39m\u001b[38;5;241m.\u001b[39mNameToInfo\u001b[38;5;241m.\u001b[39mget(name)\n\u001b[0;32m   1475\u001b[0m \u001b[38;5;28;01mif\u001b[39;00m info \u001b[38;5;129;01mis\u001b[39;00m \u001b[38;5;28;01mNone\u001b[39;00m:\n\u001b[1;32m-> 1476\u001b[0m     \u001b[38;5;28;01mraise\u001b[39;00m \u001b[38;5;167;01mKeyError\u001b[39;00m(\n\u001b[0;32m   1477\u001b[0m         \u001b[38;5;124m'\u001b[39m\u001b[38;5;124mThere is no item named \u001b[39m\u001b[38;5;132;01m%r\u001b[39;00m\u001b[38;5;124m in the archive\u001b[39m\u001b[38;5;124m'\u001b[39m \u001b[38;5;241m%\u001b[39m name)\n\u001b[0;32m   1479\u001b[0m \u001b[38;5;28;01mreturn\u001b[39;00m info\n",
      "\u001b[1;31mKeyError\u001b[0m: \"There is no item named 'data_description.txt' in the archive\""
     ]
    }
   ],
   "source": [
    "with zipfile.ZipFile(path) as z:\n",
    "    with z.open('data_description.txt') as f:\n",
    "        desc_data = f.read().decode('utf-8')\n",
    "        print(desc_data)"
   ]
  },
  {
   "cell_type": "code",
   "execution_count": 19,
   "id": "48545f70",
   "metadata": {},
   "outputs": [
    {
     "data": {
      "text/plain": [
       "(1510, 8)"
      ]
     },
     "execution_count": 19,
     "metadata": {},
     "output_type": "execute_result"
    }
   ],
   "source": [
    "df.shape"
   ]
  },
  {
   "cell_type": "code",
   "execution_count": 20,
   "id": "5db1c1f8",
   "metadata": {},
   "outputs": [
    {
     "data": {
      "text/plain": [
       "<bound method NDFrame.head of             Date     Open     High      Low    Close  Volume  Dividends  \\\n",
       "0     2017-01-03   69.862   70.190   68.683   69.198  551600       0.00   \n",
       "1     2017-01-04   69.432   70.117   69.207   70.014  462700       0.14   \n",
       "2     2017-01-05   69.995   70.098   69.104   69.582  429900       0.00   \n",
       "3     2017-01-06   69.939   70.248   69.676   69.957  329600       0.00   \n",
       "4     2017-01-09   69.273   69.742   69.235   69.320  526200       0.00   \n",
       "...          ...      ...      ...      ...      ...     ...        ...   \n",
       "1505  2022-12-23  116.556  118.129  116.556  118.100  206600       0.00   \n",
       "1506  2022-12-27  118.100  119.034  118.100  118.650  275100       0.00   \n",
       "1507  2022-12-28  118.994  119.151  117.756  117.805  275000       0.00   \n",
       "1508  2022-12-29  118.129  119.102  117.706  118.650  345100       0.00   \n",
       "1509  2022-12-30  118.404  119.191  118.090  118.503  476600       0.00   \n",
       "\n",
       "      Stock Splits  \n",
       "0              0.0  \n",
       "1              0.0  \n",
       "2              0.0  \n",
       "3              0.0  \n",
       "4              0.0  \n",
       "...            ...  \n",
       "1505           0.0  \n",
       "1506           0.0  \n",
       "1507           0.0  \n",
       "1508           0.0  \n",
       "1509           0.0  \n",
       "\n",
       "[1510 rows x 8 columns]>"
      ]
     },
     "execution_count": 20,
     "metadata": {},
     "output_type": "execute_result"
    }
   ],
   "source": [
    "df.head"
   ]
  },
  {
   "cell_type": "code",
   "execution_count": 37,
   "id": "94b34372",
   "metadata": {},
   "outputs": [
    {
     "ename": "NameError",
     "evalue": "name 'data' is not defined",
     "output_type": "error",
     "traceback": [
      "\u001b[1;31m---------------------------------------------------------------------------\u001b[0m",
      "\u001b[1;31mNameError\u001b[0m                                 Traceback (most recent call last)",
      "Cell \u001b[1;32mIn[37], line 3\u001b[0m\n\u001b[0;32m      1\u001b[0m log_return_stats \u001b[38;5;241m=\u001b[39m {}\n\u001b[0;32m      2\u001b[0m log_returns_dict \u001b[38;5;241m=\u001b[39m {}\n\u001b[1;32m----> 3\u001b[0m \u001b[38;5;28;01mfor\u001b[39;00m ticker, df \u001b[38;5;129;01min\u001b[39;00m data\u001b[38;5;241m.\u001b[39mitems():\n\u001b[0;32m      4\u001b[0m     df[\u001b[38;5;124m'\u001b[39m\u001b[38;5;124mlog_return\u001b[39m\u001b[38;5;124m'\u001b[39m] \u001b[38;5;241m=\u001b[39m np\u001b[38;5;241m.\u001b[39mlog(df[\u001b[38;5;124m'\u001b[39m\u001b[38;5;124mClose\u001b[39m\u001b[38;5;124m'\u001b[39m] \u001b[38;5;241m/\u001b[39m df[\u001b[38;5;124m'\u001b[39m\u001b[38;5;124mClose\u001b[39m\u001b[38;5;124m'\u001b[39m]\u001b[38;5;241m.\u001b[39mshift(\u001b[38;5;241m1\u001b[39m))\n\u001b[0;32m      5\u001b[0m     stats \u001b[38;5;241m=\u001b[39m df[\u001b[38;5;124m'\u001b[39m\u001b[38;5;124mlog_return\u001b[39m\u001b[38;5;124m'\u001b[39m]\u001b[38;5;241m.\u001b[39mdropna()\n",
      "\u001b[1;31mNameError\u001b[0m: name 'data' is not defined"
     ]
    }
   ],
   "source": [
    "log_return_stats = {}\n",
    "log_returns_dict = {}\n",
    "for ticker, df in data.items():\n",
    "    df['log_return'] = np.log(df['Close'] / df['Close'].shift(1))\n",
    "    stats = df['log_return'].dropna()\n",
    "    if not stats.empty:\n",
    "        log_returns_dict[ticker] = stats\n",
    "        log_return_stats[ticker] = {\n",
    "            'Min': stats.min(),\n",
    "            'Max': stats.max(),\n",
    "            'Mean': stats.mean(),\n",
    "            'Std': stats.std(),\n",
    "            'Skew': skew(stats)\n",
    "        }\n",
    "log_return_df = pd.DataFrame(log_return_stats).T"
   ]
  },
  {
   "cell_type": "code",
   "execution_count": 31,
   "id": "68d9ec55",
   "metadata": {},
   "outputs": [
    {
     "ename": "SyntaxError",
     "evalue": "expected 'else' after 'if' expression (2703171845.py, line 3)",
     "output_type": "error",
     "traceback": [
      "\u001b[1;36m  Cell \u001b[1;32mIn[31], line 3\u001b[1;36m\u001b[0m\n\u001b[1;33m    for ticker, df ('data/TER.csv', 'data/LNC.csv', 'data/TRV.csv', 'data/ACN.csv', 'data/GL.csv')\u001b[0m\n\u001b[1;37m                ^\u001b[0m\n\u001b[1;31mSyntaxError\u001b[0m\u001b[1;31m:\u001b[0m expected 'else' after 'if' expression\n"
     ]
    }
   ],
   "source": [
    "no_diff_days = {\n",
    "    ticker: (df['High'] == df['Low']).sum()\n",
    "    for ticker, df ('data/TER.csv', 'data/LNC.csv', 'data/TRV.csv', 'data/ACN.csv', 'data/GL.csv')\n",
    "    if 'High' in df.columns and 'Low' in df.columns\n",
    "}"
   ]
  },
  {
   "cell_type": "code",
   "execution_count": 34,
   "id": "541ec083",
   "metadata": {},
   "outputs": [],
   "source": [
    "import numpy as np\n",
    "import matplotlib.pyplot as plt\n",
    "import seaborn as sns\n",
    "np.random.seed(42)\n",
    "n1 = np.random.randint(100, 501)  \n",
    "n2 = np.random.randint(100, 501)\n",
    "n3 = np.random.randint(100, 501)\n",
    "n4 = np.random.randint(100, 501)\n",
    "normal_data = np.random.normal(size=n1)\n",
    "uniform_data = np.random.uniform(size=n2)\n",
    "exponential_data = np.random.exponential(size=n3)\n",
    "chi2_data = np.random.chisquare(df=3, size=n4)  \n"
   ]
  },
  {
   "cell_type": "code",
   "execution_count": 35,
   "id": "fe49f247",
   "metadata": {},
   "outputs": [
    {
     "data": {
      "image/png": "[encoded data removed]",
      "text/plain": [
       "<Figure size 1200x1000 with 4 Axes>"
      ]
     },
     "metadata": {},
     "output_type": "display_data"
    }
   ],
   "source": [
    "\n",
    "fig, axs = plt.subplots(2, 2, figsize=(12, 10))\n",
    "sns.histplot(normal_data, kde=True, ax=axs[0, 0])\n",
    "axs[0, 0].set_title('Normal Distribution')\n",
    "\n",
    "\n",
    "sns.boxplot(y=uniform_data, ax=axs[0, 1])\n",
    "axs[0, 1].set_title('Uniform Distribution')\n",
    "\n",
    "\n",
    "sns.ecdfplot(exponential_data, ax=axs[1, 0])\n",
    "axs[1, 0].set_title('Exponential Distribution')\n",
    "\n",
    "sns.kdeplot(chi2_data, ax=axs[1, 1], fill=True)\n",
    "axs[1, 1].set_title('Chi-squared Distribution')\n",
    "\n",
    "plt.tight_layout()\n",
    "\n",
    "\n",
    "plt.show()\n"
   ]
  },
  {
   "cell_type": "code",
   "execution_count": null,
   "id": "8730da95",
   "metadata": {},
   "outputs": [],
   "source": []
  }
 ],
 "metadata": {
  "kernelspec": {
   "display_name": "Python 3 (ipykernel)",
   "language": "python",
   "name": "python3"
  },
  "language_info": {
   "codemirror_mode": {
    "name": "ipython",
    "version": 3
   },
   "file_extension": ".py",
   "mimetype": "text/x-python",
   "name": "python",
   "nbconvert_exporter": "python",
   "pygments_lexer": "ipython3",
   "version": "3.11.5"
  }
 },
 "nbformat": 4,
 "nbformat_minor": 5
}
